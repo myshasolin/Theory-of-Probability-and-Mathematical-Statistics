{
 "cells": [
  {
   "cell_type": "code",
   "execution_count": 1,
   "id": "1e25b374",
   "metadata": {},
   "outputs": [],
   "source": [
    "from math import factorial"
   ]
  },
  {
   "cell_type": "code",
   "execution_count": 2,
   "id": "3f5e1b02",
   "metadata": {},
   "outputs": [],
   "source": [
    "def comb(a, b):\n",
    "    return factorial(b)/(factorial(a) * factorial(b - a))"
   ]
  },
  {
   "cell_type": "markdown",
   "id": "43bbeef8",
   "metadata": {},
   "source": [
    "## 1. Задание\n",
    "\n",
    "**Из колоды в 52 карты извлекаются случайным образом 4 карты.**"
   ]
  },
  {
   "cell_type": "markdown",
   "id": "48393cb4",
   "metadata": {},
   "source": [
    "**a) Найти вероятность того, что все карты – крести.**"
   ]
  },
  {
   "cell_type": "markdown",
   "id": "0516b189",
   "metadata": {},
   "source": [
    "решение классической вероятностью:"
   ]
  },
  {
   "cell_type": "markdown",
   "id": "ef44e663",
   "metadata": {},
   "source": [
    "$P(A) = \\frac{13}{52}\\cdot\\frac{12}{51}\\cdot\\frac{11}{50}\\cdot\\frac{10}{49} = \\frac{17160}{6497400} = 0.0026$"
   ]
  },
  {
   "cell_type": "markdown",
   "id": "fc99369e",
   "metadata": {},
   "source": [
    "решение комбинаторикой"
   ]
  },
  {
   "cell_type": "markdown",
   "id": "8f027712",
   "metadata": {},
   "source": [
    "$P(A) = \\frac{C^4_{13}}{C^4_{52}} = \\frac{\\frac{13!}{4!\\cdot9!}}{\\frac{52!}{4!\\cdot48!}} = \\frac{10\\cdot11\\cdot12\\cdot13}{49\\cdot50\\cdot51\\cdot52} = \\frac{17160}{6497400} = 0.0026$"
   ]
  },
  {
   "cell_type": "markdown",
   "id": "3e80600e",
   "metadata": {},
   "source": [
    "решение на Python"
   ]
  },
  {
   "cell_type": "code",
   "execution_count": 3,
   "id": "1827c52c",
   "metadata": {},
   "outputs": [
    {
     "data": {
      "text/plain": [
       "0.0026"
      ]
     },
     "execution_count": 3,
     "metadata": {},
     "output_type": "execute_result"
    }
   ],
   "source": [
    "P = comb(4, 13)/comb(4, 52)\n",
    "round(P, 4)"
   ]
  },
  {
   "cell_type": "markdown",
   "id": "317a35bb",
   "metadata": {},
   "source": [
    "**б) Найти вероятность, что среди 4-х карт окажется хотя бы один туз.**"
   ]
  },
  {
   "cell_type": "markdown",
   "id": "20fb0db0",
   "metadata": {},
   "source": [
    "решение классической вероятностью:"
   ]
  },
  {
   "cell_type": "markdown",
   "id": "b8ba5015",
   "metadata": {},
   "source": [
    "$P(A)=1-\\frac{48}{52}\\cdot\\frac{47}{51}\\cdot\\frac{46}{50}\\cdot\\frac{45}{49}=1-\\frac{4669920}{6497400}=1-0.7187=0.2813$"
   ]
  },
  {
   "cell_type": "markdown",
   "id": "35dd53ab",
   "metadata": {},
   "source": [
    "решение комбинаторикой"
   ]
  },
  {
   "cell_type": "markdown",
   "id": "ceff2d40",
   "metadata": {},
   "source": [
    "$P(A) = 1-\\frac{C^4_{52-4}}{C^4_{52}}=1-\\frac{\\frac{48!}{4!\\cdot44!}}{\\frac{52!}{4!\\cdot48!}}=1-\\frac{45\\cdot46\\cdot47\\cdot48}{49\\cdot50\\cdot51\\cdot52}=1-\\frac{4669920}{6497400}=1-0.7187=0.2813$"
   ]
  },
  {
   "cell_type": "markdown",
   "id": "f8cd40fe",
   "metadata": {},
   "source": [
    "решение на Python"
   ]
  },
  {
   "cell_type": "code",
   "execution_count": 4,
   "id": "549c5c7f",
   "metadata": {},
   "outputs": [
    {
     "data": {
      "text/plain": [
       "0.2813"
      ]
     },
     "execution_count": 4,
     "metadata": {},
     "output_type": "execute_result"
    }
   ],
   "source": [
    "P = 1 - comb(4, 48)/comb(4, 52)\n",
    "round(P, 4)"
   ]
  },
  {
   "cell_type": "markdown",
   "id": "cd989af1",
   "metadata": {},
   "source": [
    "## 2. Задание\n",
    "**На входной двери подъезда установлен кодовый замок, содержащий десять кнопок с цифрами от 0 до 9. Код содержит три цифры, которые нужно нажать одновременно. Какова вероятность того, что человек, не знающий код, откроет дверь с первой попытки?**"
   ]
  },
  {
   "cell_type": "markdown",
   "id": "b9643d72",
   "metadata": {},
   "source": [
    "решение классической вероятностью с учетом количества перестановок $P_n=n!$"
   ]
  },
  {
   "cell_type": "markdown",
   "id": "ff14ae13",
   "metadata": {},
   "source": [
    "$P(A) = 3!\\cdot\\frac{1}{10}\\cdot\\frac{1}{9}\\cdot\\frac{1}{8}=\\frac{6}{720}=0.0083$"
   ]
  },
  {
   "cell_type": "markdown",
   "id": "60dc3959",
   "metadata": {},
   "source": [
    "решение комбинаторикой"
   ]
  },
  {
   "cell_type": "markdown",
   "id": "9a4f01df",
   "metadata": {},
   "source": [
    "$P(A)=\\frac{C^3_3}{C^3_{10}} = \\frac{1}{C^3_{10}} = \\frac{3!\\cdot7!}{10!} = \\frac{1\\cdot2\\cdot3}{8\\cdot9\\cdot10}=\\frac{6}{720}=0.0083$"
   ]
  },
  {
   "cell_type": "markdown",
   "id": "f5dd87f1",
   "metadata": {},
   "source": [
    "решение на Python"
   ]
  },
  {
   "cell_type": "code",
   "execution_count": 5,
   "id": "41abafb7",
   "metadata": {},
   "outputs": [
    {
     "data": {
      "text/plain": [
       "0.0083"
      ]
     },
     "execution_count": 5,
     "metadata": {},
     "output_type": "execute_result"
    }
   ],
   "source": [
    "P = 1/comb(3, 10)\n",
    "round(P, 4)"
   ]
  },
  {
   "cell_type": "markdown",
   "id": "7c88db1b",
   "metadata": {},
   "source": [
    "## 3. Задание\n",
    "**В ящике имеется 15 деталей, из которых 9 окрашены. Рабочий случайным образом извлекает 3 детали. Какова вероятность того, что все извлеченные детали окрашены?**"
   ]
  },
  {
   "cell_type": "markdown",
   "id": "f975d768",
   "metadata": {},
   "source": [
    "решение классической вероятностью:"
   ]
  },
  {
   "cell_type": "markdown",
   "id": "25a76549",
   "metadata": {},
   "source": [
    "$P(A) = \\frac{9}{15}\\cdot\\frac{8}{14}\\cdot\\frac{7}{13}=\\frac{504}{2730} = 0.1846$"
   ]
  },
  {
   "cell_type": "markdown",
   "id": "20eb5164",
   "metadata": {},
   "source": [
    "решение комбинаторикой"
   ]
  },
  {
   "cell_type": "markdown",
   "id": "4a6fca24",
   "metadata": {},
   "source": [
    "$P(A) = \\frac{C^3_9}{C^3_{15}} = \\frac{\\frac{9!}{3!\\cdot6!}}{\\frac{15!}{3!\\cdot12!}} = \\frac{7\\cdot8\\cdot9}{13\\cdot14\\cdot15} = \\frac{504}{2730} = 0.1846$"
   ]
  },
  {
   "cell_type": "markdown",
   "id": "4b643162",
   "metadata": {},
   "source": [
    "решение на Python"
   ]
  },
  {
   "cell_type": "code",
   "execution_count": 6,
   "id": "b264ab75",
   "metadata": {},
   "outputs": [
    {
     "data": {
      "text/plain": [
       "0.1846"
      ]
     },
     "execution_count": 6,
     "metadata": {},
     "output_type": "execute_result"
    }
   ],
   "source": [
    "P = comb(3, 9)/comb(3, 15)\n",
    "round(P, 4)"
   ]
  },
  {
   "cell_type": "markdown",
   "id": "f137c1b7",
   "metadata": {},
   "source": [
    "## 4. Задание\n",
    "**В лотерее 100 билетов. Из них 2 выигрышных. Какова вероятность того, что 2 приобретенных билета окажутся выигрышными?**"
   ]
  },
  {
   "cell_type": "markdown",
   "id": "747c8867",
   "metadata": {},
   "source": [
    "решение классической вероятностью:"
   ]
  },
  {
   "cell_type": "markdown",
   "id": "727b8b7d",
   "metadata": {},
   "source": [
    "$P(A)=\\frac{2}{100}\\cdot\\frac{1}{99}=\\frac{1}{4950}=0.0002$"
   ]
  },
  {
   "cell_type": "markdown",
   "id": "26996ec1",
   "metadata": {},
   "source": [
    "решение комбинаторикой"
   ]
  },
  {
   "cell_type": "markdown",
   "id": "c2ce68b8",
   "metadata": {},
   "source": [
    "$P(A)=\\frac{C^2_2}{C^2_{100}}=\\frac{1}{\\frac{100!}{2!\\cdot98!}}=\\frac{1\\cdot2}{99\\cdot100}=\\frac{1}{4950}=0.0002$"
   ]
  },
  {
   "cell_type": "markdown",
   "id": "dff93619",
   "metadata": {},
   "source": [
    "решение на Python"
   ]
  },
  {
   "cell_type": "code",
   "execution_count": 7,
   "id": "c3d02f58",
   "metadata": {},
   "outputs": [
    {
     "data": {
      "text/plain": [
       "0.0002"
      ]
     },
     "execution_count": 7,
     "metadata": {},
     "output_type": "execute_result"
    }
   ],
   "source": [
    "P = 1/comb(2, 100)\n",
    "round(P, 4)"
   ]
  },
  {
   "cell_type": "markdown",
   "id": "b02c6565",
   "metadata": {},
   "source": [
    "## 5. Задание\n",
    "**На соревновании по биатлону один из трех спортсменов стреляет и попадает в мишень. Вероятность попадания для первого спортсмена равна 0.9, для второго — 0.8, для третьего — 0.6. Найти вероятность того, что выстрел произведен: a). первым спортсменом б). вторым спортсменом в). третьим спортсменом.**"
   ]
  },
  {
   "cell_type": "markdown",
   "id": "9896ccea",
   "metadata": {},
   "source": [
    "$A$ - попадание в мишень\n",
    "\n",
    "$B_n$ - спортсмены\n",
    "\n",
    "$P(A|B_1) = 0.9$\n",
    "\n",
    "$P(A|B_2) = 0.8$\n",
    "\n",
    "$P(A|B_3) = 0.6$\n",
    "\n",
    "$P(B_1) = P(B_2) = P(B_3) = \\frac{1}{3}$\n",
    "\n",
    "$P(A) = P(B_1)\\cdot P(A|B_1) + P(B_2)\\cdot P(A|B_2) + P(B_3)\\cdot P(A|B_3)$"
   ]
  },
  {
   "cell_type": "markdown",
   "id": "45c8082a",
   "metadata": {},
   "source": [
    "считаем по формуле Байеса:\n",
    "$$P(B_n|A)=\\frac{P(B_n)\\cdot P(A|B_n)}{P(A)}$$"
   ]
  },
  {
   "cell_type": "markdown",
   "id": "d1d0c166",
   "metadata": {},
   "source": [
    "a) для первого спортсмена\n",
    "\n",
    "$P(B_1|A) = \\frac{\\frac{1}{3}\\cdot\\frac{9}{10}}{\\frac{1}{3}\\cdot\\frac{9}{10}+\\frac{1}{3}\\cdot\\frac{8}{10}+\\frac{1}{3}\\cdot\\frac{6}{10}}=\\frac{\\frac{9}{30}}{\\frac{23}{30}}=\\frac{9}{23}=0.3913$"
   ]
  },
  {
   "cell_type": "markdown",
   "id": "4d371dfa",
   "metadata": {},
   "source": [
    "б) для второго спортсмена\n",
    "\n",
    "$P(B_2|A) = \\frac{\\frac{1}{3}\\cdot\\frac{8}{10}}{\\frac{1}{3}\\cdot\\frac{9}{10}+\\frac{1}{3}\\cdot\\frac{8}{10}+\\frac{1}{3}\\cdot\\frac{6}{10}}=\\frac{\\frac{8}{30}}{\\frac{23}{30}}=\\frac{8}{23}=0.3478$"
   ]
  },
  {
   "cell_type": "markdown",
   "id": "75003b62",
   "metadata": {},
   "source": [
    "в) для третьего спортсмена\n",
    "\n",
    "$P(B_2|A) = \\frac{\\frac{1}{3}\\cdot\\frac{6}{10}}{\\frac{1}{3}\\cdot\\frac{9}{10}+\\frac{1}{3}\\cdot\\frac{8}{10}+\\frac{1}{3}\\cdot\\frac{6}{10}}=\\frac{\\frac{6}{30}}{\\frac{23}{30}}=\\frac{6}{23}=0.2609$"
   ]
  },
  {
   "cell_type": "code",
   "execution_count": null,
   "id": "61756329",
   "metadata": {},
   "outputs": [],
   "source": []
  }
 ],
 "metadata": {
  "kernelspec": {
   "display_name": "Python 3 (ipykernel)",
   "language": "python",
   "name": "python3"
  },
  "language_info": {
   "codemirror_mode": {
    "name": "ipython",
    "version": 3
   },
   "file_extension": ".py",
   "mimetype": "text/x-python",
   "name": "python",
   "nbconvert_exporter": "python",
   "pygments_lexer": "ipython3",
   "version": "3.9.7"
  }
 },
 "nbformat": 4,
 "nbformat_minor": 5
}
