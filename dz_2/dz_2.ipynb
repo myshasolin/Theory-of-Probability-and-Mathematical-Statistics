{
 "cells": [
  {
   "cell_type": "code",
   "execution_count": 1,
   "id": "5683f2fd",
   "metadata": {},
   "outputs": [],
   "source": [
    "from math import factorial, e"
   ]
  },
  {
   "cell_type": "code",
   "execution_count": 2,
   "id": "d6da2e24",
   "metadata": {},
   "outputs": [],
   "source": [
    "def comb(k, n):\n",
    "    return factorial(n)/(factorial(k) * factorial(n - k))"
   ]
  },
  {
   "cell_type": "markdown",
   "id": "8ed1a8fc",
   "metadata": {},
   "source": [
    "## 1. Задание\n",
    "\n",
    "**Вероятность того, что стрелок попадет в мишень, выстрелив один раз, равна 0.8. Стрелок выстрелил 100 раз. Найдите вероятность того, что стрелок попадет в цель ровно 85 раз.**"
   ]
  },
  {
   "cell_type": "markdown",
   "id": "934b58ef",
   "metadata": {},
   "source": [
    "$p=0.8$\n",
    "\n",
    "$k=85$\n",
    "\n",
    "$n=100$\n",
    "\n",
    "будем использовать биномиальное распределение"
   ]
  },
  {
   "cell_type": "markdown",
   "id": "1a1aac7f",
   "metadata": {},
   "source": [
    "$P_n=C^k_n \\cdot p^k \\cdot q^{n-k} \\Rightarrow $\n",
    "\n",
    "$P_{100}(85) = C^{85}_{100} \\cdot 0.8^{85} \\cdot (1-0.8)^{100-85} = \\frac{100!}{85! \\cdot 15!} \\cdot 0.8^{85} \\cdot 0.2{15}=0.0481$"
   ]
  },
  {
   "cell_type": "markdown",
   "id": "a84bc2c8",
   "metadata": {},
   "source": [
    "Решение на Python:"
   ]
  },
  {
   "cell_type": "code",
   "execution_count": 3,
   "id": "c125527d",
   "metadata": {},
   "outputs": [
    {
     "data": {
      "text/plain": [
       "0.0481"
      ]
     },
     "execution_count": 3,
     "metadata": {},
     "output_type": "execute_result"
    }
   ],
   "source": [
    "P = comb(85, 100)*0.8**85*0.2**15\n",
    "round(P, 4)"
   ]
  },
  {
   "cell_type": "markdown",
   "id": "c9fae789",
   "metadata": {},
   "source": [
    "## 2. Задание\n",
    "\n",
    "**Вероятность того, что лампочка перегорит в течение первого дня эксплуатации, равна 0.0004. В жилом комплексе после ремонта в один день включили 5000 новых лампочек.**"
   ]
  },
  {
   "cell_type": "markdown",
   "id": "c9924650",
   "metadata": {},
   "source": [
    "**a) Какова вероятность, что ни одна из них не перегорит в первый день?**"
   ]
  },
  {
   "cell_type": "markdown",
   "id": "659d150a",
   "metadata": {},
   "source": [
    "$p = 0.0004$\n",
    "\n",
    "$n = 5000$\n",
    "\n",
    "$m = 0$\n",
    "\n",
    "Будем использовать распределение Пуассона"
   ]
  },
  {
   "cell_type": "markdown",
   "id": "673b1680",
   "metadata": {},
   "source": [
    "$P_m \\approx \\frac{\\lambda^m}{m!} \\cdot e^{- \\lambda} \\Rightarrow$\n",
    "\n",
    "$P_0 \\approx \\frac{2^0}{0!} \\cdot 2.71828^{-2} \\approx \\frac{1}{1} \\cdot \\frac{1}{2.71828^2} \\approx \\frac{1}{7.3890461584} \\approx 0.1354$"
   ]
  },
  {
   "cell_type": "markdown",
   "id": "9b663167",
   "metadata": {},
   "source": [
    "Решение на Python:"
   ]
  },
  {
   "cell_type": "code",
   "execution_count": 4,
   "id": "18215a09",
   "metadata": {},
   "outputs": [
    {
     "data": {
      "text/plain": [
       "0.1353"
      ]
     },
     "execution_count": 4,
     "metadata": {},
     "output_type": "execute_result"
    }
   ],
   "source": [
    "n, p = 5000, 0.0004\n",
    "P_0 = (2**0/factorial(0)) * e**-(n*p)\n",
    "round(P_0, 4)"
   ]
  },
  {
   "cell_type": "markdown",
   "id": "afb58cb3",
   "metadata": {},
   "source": [
    "**b) Какова вероятность, что перегорят ровно две?**"
   ]
  },
  {
   "cell_type": "markdown",
   "id": "f3d97024",
   "metadata": {},
   "source": [
    "$m = 2$\n",
    "\n",
    "$P_2 \\approx \\frac{2^2}{2!} \\cdot 2.71828^{-2} \\approx 2 \\cdot \\frac{1}{2.71828^2} \\approx 2 \\cdot \\frac{1}{7.3890461584} \\approx 0.2707$"
   ]
  },
  {
   "cell_type": "markdown",
   "id": "0cad2dbd",
   "metadata": {},
   "source": [
    "Решение на Python:"
   ]
  },
  {
   "cell_type": "code",
   "execution_count": 5,
   "id": "1df2c2aa",
   "metadata": {},
   "outputs": [
    {
     "data": {
      "text/plain": [
       "0.2707"
      ]
     },
     "execution_count": 5,
     "metadata": {},
     "output_type": "execute_result"
    }
   ],
   "source": [
    "P_0 = (2**2/factorial(2)) * e**-(n*p)\n",
    "round(P_0, 4)"
   ]
  },
  {
   "cell_type": "markdown",
   "id": "e1cd0900",
   "metadata": {},
   "source": [
    "## 3. Задание\n",
    "\n",
    "**Монету подбросили 144 раза. Какова вероятность, что орел выпадет ровно 70 раз?**"
   ]
  },
  {
   "cell_type": "markdown",
   "id": "ef850c04",
   "metadata": {},
   "source": [
    "$p=0.5$\n",
    "\n",
    "$k=70$\n",
    "\n",
    "$n=144$\n",
    "\n",
    "будем использовать биномиальное распределение"
   ]
  },
  {
   "cell_type": "markdown",
   "id": "f747d5d4",
   "metadata": {},
   "source": [
    "$P_{144}(70) = \\frac{144!}{70! \\cdot 74!} \\cdot 0.5^{70} \\cdot 0.5^{74} = 0.0628$"
   ]
  },
  {
   "cell_type": "markdown",
   "id": "8103fb0a",
   "metadata": {},
   "source": [
    "Решение на Python:"
   ]
  },
  {
   "cell_type": "code",
   "execution_count": 6,
   "id": "e199b075",
   "metadata": {},
   "outputs": [
    {
     "data": {
      "text/plain": [
       "0.0628"
      ]
     },
     "execution_count": 6,
     "metadata": {},
     "output_type": "execute_result"
    }
   ],
   "source": [
    "P = comb(70, 144)*0.5**70*0.5**74\n",
    "round(P, 4)"
   ]
  },
  {
   "cell_type": "markdown",
   "id": "7409bded",
   "metadata": {},
   "source": [
    "## 3. Задание\n",
    "\n",
    "**В первом ящике находится 10 мячей, из которых 7 - белые. Во втором ящике - 11 мячей, из которых 9 белых. Из каждого ящика вытаскивают случайным образом по два мяча.**"
   ]
  },
  {
   "cell_type": "markdown",
   "id": "f74aa112",
   "metadata": {},
   "source": [
    "**a) Какова вероятность того, что все мячи белые?**"
   ]
  },
  {
   "cell_type": "markdown",
   "id": "d62e27ba",
   "metadata": {},
   "source": [
    "$P(A) = \\frac{c^2_7}{C^2_{10}} \\cdot \\frac{C^2_9}{C^2_{11}} = \\frac{\\frac{7!}{2! \\cdot 5!}}{\\frac{10!}{2! \\cdot 8!}} \\cdot \\frac{\\frac{9!}{2! \\cdot 7!}}{\\frac{11!}{2! \\cdot 9!}} = 0.3054$"
   ]
  },
  {
   "cell_type": "markdown",
   "id": "7d53e139",
   "metadata": {},
   "source": [
    "Решение на Python:"
   ]
  },
  {
   "cell_type": "code",
   "execution_count": 7,
   "id": "e60e6fec",
   "metadata": {},
   "outputs": [
    {
     "data": {
      "text/plain": [
       "0.3055"
      ]
     },
     "execution_count": 7,
     "metadata": {},
     "output_type": "execute_result"
    }
   ],
   "source": [
    "P = (comb(2, 7)/comb(2, 10)) * (comb(2, 9)/comb(2, 11))\n",
    "round(P, 4)"
   ]
  },
  {
   "cell_type": "markdown",
   "id": "bf7c6a23",
   "metadata": {},
   "source": [
    "**b) Какова вероятность того, что ровно два мяча белые?**"
   ]
  },
  {
   "cell_type": "markdown",
   "id": "06c1f8e4",
   "metadata": {},
   "source": [
    "$P(B_1) = $ достать 2 белых из 1-го ящика и 0 белых из второго = $\\frac{C^2_7}{C^2_{10}} \\cdot \\frac{C^2_2}{C^2_4}$\n",
    "\n",
    "$P(B_2) = $ достать 1 белый из 1-го ящика и 1 белый из второго = $\\frac{C^1_7 \\cdot C^1_3}{C^2_{10}} \\cdot \\frac{C^1_9 \\cdot C^1_2}{C^2_4}$\n",
    "\n",
    "$P(B_3) = $ достать 0 белых из 1-го ящика и 2 белых из второго = $\\frac{C^2_3}{C^2_{10}} \\cdot \\frac{C^2_9}{C^2_4}$\n",
    "\n",
    "$P(A) = P(B_1) + P(B_2) + P(B_3) \\Rightarrow$\n",
    "\n",
    "$P(A) \\frac{C^2_7}{C^2_{10}} \\cdot \\frac{C^2_2}{C^2_{11}} + \\frac{C^1_7 \\cdot C^1_3}{C^2_{10}} \\cdot \\frac{C^1_9 \\cdot C^1_2}{C^2_{11}} + \\frac{C^2_3}{C^2_{10}} \\cdot \\frac{C^2_9}{C^2_11} = \\frac{\\frac{7!}{2! \\cdot 5!}}{\\frac{10!}{2! \\cdot 8!}} \\cdot \\frac{\\frac{2!}{2! \\cdot 0!}}{\\frac{11!}{2! \\cdot 9!}} + \\frac{\\frac{7!}{1! \\cdot 6!} \\cdot \\frac{3!}{1 \\cdot 2!}}{\\frac{10!}{2! \\cdot 8!}} \\cdot \\frac{\\frac{9!}{1! \\cdot 8!} \\cdot \\frac{2!}{1! \\cdot 2!}}{\\frac{11!}{2! \\cdot 9!}} + \\frac{\\frac{3!}{2! \\cdot 1!}}{\\frac{10!}{2! \\cdot 8!}} \\cdot \\frac{\\frac{9!}{2! \\cdot 7!}}{\\frac{11!}{2! \\cdot 9!}} = 0.2048$"
   ]
  },
  {
   "cell_type": "markdown",
   "id": "9dc4f8ac",
   "metadata": {},
   "source": [
    "Решение на Python:"
   ]
  },
  {
   "cell_type": "code",
   "execution_count": 8,
   "id": "d73e30da",
   "metadata": {},
   "outputs": [
    {
     "data": {
      "text/plain": [
       "0.2048"
      ]
     },
     "execution_count": 8,
     "metadata": {},
     "output_type": "execute_result"
    }
   ],
   "source": [
    "P = ((comb(2,7)/comb(2,10))*(comb(2,2)/comb(2,11))+\n",
    "    ((comb(1,7)*comb(1,3))/comb(2,10))*((comb(1,9)*comb(1,2))/comb(2,11))+\n",
    "    (comb(2,3)/comb(2,10))*(comb(2,9)/comb(2,11)))\n",
    "round(P, 4)"
   ]
  },
  {
   "cell_type": "markdown",
   "id": "79d9acdf",
   "metadata": {},
   "source": [
    "**c) Какова вероятность того, что хотя бы один мяч белый?**"
   ]
  },
  {
   "cell_type": "markdown",
   "id": "4a04d15a",
   "metadata": {},
   "source": [
    "решаем от обратного\n",
    "\n",
    "$P(A) = 1 - P(\\bar A)$\n",
    "\n",
    "$P(A) = 1 - \\left( \\frac{C^2_3}{C^2_{10}} \\cdot \\frac{C^2_2}{C^2_{11}} \\right) = 1 - \\left( \\frac{\\frac{3!}{2! \\cdot 1!}}{\\frac{10!}{2! \\cdot 8!}} \\cdot \\frac{\\frac{2!}{2! \\cdot 0!}}{\\frac{11!}{2! \\cdot 9!}} \\right) = 1 - 0.0012 = 0.9988$"
   ]
  },
  {
   "cell_type": "markdown",
   "id": "f34c8e7d",
   "metadata": {},
   "source": [
    "Решение на Python:"
   ]
  },
  {
   "cell_type": "code",
   "execution_count": 9,
   "id": "68f0f2be",
   "metadata": {},
   "outputs": [
    {
     "data": {
      "text/plain": [
       "0.9988"
      ]
     },
     "execution_count": 9,
     "metadata": {},
     "output_type": "execute_result"
    }
   ],
   "source": [
    "P = 1 - ((comb(2,3)/comb(2, 10)) * (comb(2,2)/comb(2, 11)))\n",
    "round(P, 4)"
   ]
  },
  {
   "cell_type": "code",
   "execution_count": null,
   "id": "443eb08b",
   "metadata": {},
   "outputs": [],
   "source": []
  }
 ],
 "metadata": {
  "kernelspec": {
   "display_name": "Python 3 (ipykernel)",
   "language": "python",
   "name": "python3"
  },
  "language_info": {
   "codemirror_mode": {
    "name": "ipython",
    "version": 3
   },
   "file_extension": ".py",
   "mimetype": "text/x-python",
   "name": "python",
   "nbconvert_exporter": "python",
   "pygments_lexer": "ipython3",
   "version": "3.9.13"
  }
 },
 "nbformat": 4,
 "nbformat_minor": 5
}
