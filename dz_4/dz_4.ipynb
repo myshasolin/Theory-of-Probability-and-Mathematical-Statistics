{
 "cells": [
  {
   "cell_type": "markdown",
   "id": "35e6f6da",
   "metadata": {
    "toc": true
   },
   "source": [
    "<h1>Table of Contents<span class=\"tocSkip\"></span></h1>\n",
    "<div class=\"toc\"><ul class=\"toc-item\"></ul></div>"
   ]
  },
  {
   "cell_type": "code",
   "execution_count": 1,
   "id": "bfdb23fd",
   "metadata": {},
   "outputs": [],
   "source": [
    "import numpy as np\n",
    "from scipy.stats import norm"
   ]
  },
  {
   "cell_type": "code",
   "execution_count": 2,
   "id": "65538928",
   "metadata": {},
   "outputs": [],
   "source": [
    "def quadratic_equation(a, b, c):\n",
    "    '''функция для поиска корней квадратного уравнения'''\n",
    "    discr = b**2 - 4*a*c\n",
    "    print(f'D = {round(discr,2)}')\n",
    "    if discr > 0:\n",
    "        x1, x2 = (-b+np.sqrt(discr))/(2*a), (-b-np.sqrt(discr))/(2*a)\n",
    "        print(f'x1 = {round(x1, 2)}\\nx2 = {round(x2, 2)}')\n",
    "    elif discr == 0:\n",
    "        x = -b/(2*a)\n",
    "        print(f'x = {round(x, 2)}')\n",
    "    else:\n",
    "        print('Корней нет')"
   ]
  },
  {
   "cell_type": "markdown",
   "id": "226cdc8c",
   "metadata": {},
   "source": [
    "**1 Задание**\n",
    "\n",
    "**Случайная непрерывная величина A имеет равномерное распределение на промежутке (200, 800].\n",
    "Найдите ее среднее значение и дисперсию.**"
   ]
  },
  {
   "cell_type": "markdown",
   "id": "ee5528fd",
   "metadata": {},
   "source": [
    "$M(X)=\\frac{a+b}{2}=\\frac{200+800}{2}=500$\n",
    "\n",
    "$D(X)=\\frac{(b-a)^2}{12}=\\frac{(800-200)^2}{12}=30000$"
   ]
  },
  {
   "cell_type": "markdown",
   "id": "7d95d51a",
   "metadata": {},
   "source": [
    "решение на Python"
   ]
  },
  {
   "cell_type": "code",
   "execution_count": 3,
   "id": "a1c67398",
   "metadata": {},
   "outputs": [
    {
     "data": {
      "text/plain": [
       "(30000, 500)"
      ]
     },
     "execution_count": 3,
     "metadata": {},
     "output_type": "execute_result"
    }
   ],
   "source": [
    "round(np.var(range(200, 800))), round(np.mean(range(200, 800)))"
   ]
  },
  {
   "cell_type": "markdown",
   "id": "133cc8f6",
   "metadata": {},
   "source": [
    "**2 Задание**\n",
    "\n",
    "**О случайной непрерывной равномерно распределенной величине B известно, что ее дисперсия равна 0.2.\n",
    "Можно ли найти правую границу величины B и ее среднее значение зная, что левая граница равна 0.5?\n",
    "Если да, найдите ее.**"
   ]
  },
  {
   "cell_type": "markdown",
   "id": "9cae010d",
   "metadata": {},
   "source": [
    "$D(X)=\\frac{(b-a)^2}{12}\\Rightarrow 0.2=\\frac{(b-0.5)^2}{12}\\Rightarrow 0.2=\\frac{b^2-2\\cdot b\\cdot0.5+0.5^2}{12}\\Rightarrow b^2-b+0.25=2.4\\Rightarrow b^2-b-2.15=0$\n",
    "\n",
    "$D=1^2+4\\cdot1\\cdot2.15=9.6$\n",
    "\n",
    "$x_{1.2}=\\frac{1\\pm \\sqrt{9.6}}{2} \\Rightarrow \n",
    "\\begin{equation*}\n",
    " \\begin{cases}\n",
    "   x_1=2.05\\\\\n",
    "   x_2=-1.05\n",
    " \\end{cases}\n",
    "\\end{equation*}$\n",
    "\n",
    "$ОДЗ: b > a \\Rightarrow b = 2.05$\n",
    "\n",
    "$M(X)=\\frac{a+b}{2}=\\frac{0.5+2.05}{2}=1.275$"
   ]
  },
  {
   "cell_type": "markdown",
   "id": "b02f20fe",
   "metadata": {},
   "source": [
    "решение на Python"
   ]
  },
  {
   "cell_type": "code",
   "execution_count": 4,
   "id": "208d1a22",
   "metadata": {},
   "outputs": [
    {
     "name": "stdout",
     "output_type": "stream",
     "text": [
      "D = 9.6\n",
      "x1 = 2.05\n",
      "x2 = -1.05\n"
     ]
    }
   ],
   "source": [
    "quadratic_equation(1, -1, -2.15)"
   ]
  },
  {
   "cell_type": "code",
   "execution_count": 5,
   "id": "6e149544",
   "metadata": {},
   "outputs": [
    {
     "name": "stdout",
     "output_type": "stream",
     "text": [
      "b = 2.05\n",
      "M(X) = 1.275\n"
     ]
    }
   ],
   "source": [
    "print(f'b = 2.05\\nM(X) = {(0.5+2.05)/2}')"
   ]
  },
  {
   "cell_type": "markdown",
   "id": "32598cee",
   "metadata": {},
   "source": [
    "**3 Задание**\n",
    "\n",
    "**Непрерывная случайная величина X распределена нормально и задана плотностью распределения**\n",
    "$$f(x)=\\frac{1}{4\\sqrt{2\\pi}}e^{\\frac{-(x+2)^2}{32}}$$\n",
    "**Найдите:\n",
    "а). M(X)\n",
    "б). D(X)\n",
    "в). std(X) (среднее квадратичное отклонение)**"
   ]
  },
  {
   "cell_type": "markdown",
   "id": "5e1e3664",
   "metadata": {},
   "source": [
    "$M(X)=-2, D(X)=16, \\sigma=4$"
   ]
  },
  {
   "cell_type": "markdown",
   "id": "f035d907",
   "metadata": {},
   "source": [
    "**4 Задание**\n",
    "\n",
    "**Рост взрослого населения города X имеет нормальное распределение.\n",
    "Причем, средний рост равен 174 см, а среднее квадратичное отклонение равно 8 см.\n",
    "Какова вероятность того, что случайным образом выбранный взрослый человек имеет рост:**"
   ]
  },
  {
   "cell_type": "markdown",
   "id": "c6059878",
   "metadata": {},
   "source": [
    "$\\mu=174$\n",
    "\n",
    "$\\sigma=8$\n",
    "\n",
    "$Z=\\frac{x-\\mu}{\\sigma}$"
   ]
  },
  {
   "cell_type": "markdown",
   "id": "8c2471b2",
   "metadata": {},
   "source": [
    "**a) больше 182 см**"
   ]
  },
  {
   "cell_type": "markdown",
   "id": "7ed5720b",
   "metadata": {},
   "source": [
    "$x=182 \\Rightarrow Z=\\frac{182-174}{8}=1$\n",
    "\n",
    "$P(Z=1)=0.8413 \\Rightarrow P(A)=1-P(Z=1)=1-0.8413=0.1587$"
   ]
  },
  {
   "cell_type": "markdown",
   "id": "7491ac30",
   "metadata": {},
   "source": [
    "решение на Python"
   ]
  },
  {
   "cell_type": "code",
   "execution_count": 6,
   "id": "b5859c3d",
   "metadata": {},
   "outputs": [
    {
     "data": {
      "text/plain": [
       "0.1587"
      ]
     },
     "execution_count": 6,
     "metadata": {},
     "output_type": "execute_result"
    }
   ],
   "source": [
    "round(1-norm.cdf((182-174)/8), 4)"
   ]
  },
  {
   "cell_type": "markdown",
   "id": "d01a2616",
   "metadata": {},
   "source": [
    "**б) больше 190 см**"
   ]
  },
  {
   "cell_type": "markdown",
   "id": "308e3f72",
   "metadata": {},
   "source": [
    "$x=190 \\Rightarrow Z=\\frac{190-174}{8}=2$\n",
    "\n",
    "$P(Z=2)=0.9772 \\Rightarrow P(A)=1-P(Z=2)=1-0.9772=0.0228$"
   ]
  },
  {
   "cell_type": "markdown",
   "id": "54d57166",
   "metadata": {},
   "source": [
    "решение на Python"
   ]
  },
  {
   "cell_type": "code",
   "execution_count": 7,
   "id": "a3863502",
   "metadata": {},
   "outputs": [
    {
     "data": {
      "text/plain": [
       "0.0228"
      ]
     },
     "execution_count": 7,
     "metadata": {},
     "output_type": "execute_result"
    }
   ],
   "source": [
    "round(1-norm.cdf((190-174)/8), 4)"
   ]
  },
  {
   "cell_type": "markdown",
   "id": "c5092d73",
   "metadata": {},
   "source": [
    "**в) от 166 см до 190 см**"
   ]
  },
  {
   "cell_type": "markdown",
   "id": "ef21eb79",
   "metadata": {},
   "source": [
    "$x_1=166 \\Rightarrow Z_1=\\frac{166-174}{8}=-1 \\Rightarrow P(Z_1) = 0.8413$\n",
    "\n",
    "$x_2=190 \\Rightarrow Z_2=\\frac{190-174}{8}=2 \\Rightarrow P(Z_2) = 0.0228$\n",
    "\n",
    "$P(A)=P(Z_1)-P(Z_2)=0.8413-0.0228=0.8185$"
   ]
  },
  {
   "cell_type": "markdown",
   "id": "70ad7e08",
   "metadata": {},
   "source": [
    "решение на Python"
   ]
  },
  {
   "cell_type": "code",
   "execution_count": 8,
   "id": "f17db244",
   "metadata": {},
   "outputs": [
    {
     "data": {
      "text/plain": [
       "0.8186"
      ]
     },
     "execution_count": 8,
     "metadata": {},
     "output_type": "execute_result"
    }
   ],
   "source": [
    "round((1-norm.cdf((166-174)/8))-(1-norm.cdf((190-174)/8)), 4)"
   ]
  },
  {
   "cell_type": "markdown",
   "id": "5e1704c8",
   "metadata": {},
   "source": [
    "**г) от 166 см до 182 см**"
   ]
  },
  {
   "cell_type": "markdown",
   "id": "294066e7",
   "metadata": {},
   "source": [
    "$x_1=166 \\Rightarrow Z_1=\\frac{166-174}{8}=-1 \\Rightarrow P(Z_1) = 0.8413$\n",
    "\n",
    "$x_2=182 \\Rightarrow Z_2=\\frac{182-174}{8}=1 \\Rightarrow P(Z_2) = 0.1587$\n",
    "\n",
    "$P(A)=P(Z_1)-P(Z_2)=0.8413-0.1587=0.6826$"
   ]
  },
  {
   "cell_type": "markdown",
   "id": "b8dd1649",
   "metadata": {},
   "source": [
    "решение на Python"
   ]
  },
  {
   "cell_type": "code",
   "execution_count": 9,
   "id": "4ac0ffeb",
   "metadata": {},
   "outputs": [
    {
     "data": {
      "text/plain": [
       "0.6827"
      ]
     },
     "execution_count": 9,
     "metadata": {},
     "output_type": "execute_result"
    }
   ],
   "source": [
    "round((1-norm.cdf((166-174)/8))-(1-norm.cdf((182-174)/8)), 4)"
   ]
  },
  {
   "cell_type": "markdown",
   "id": "42f82239",
   "metadata": {},
   "source": [
    "**д) от 158 см до 190 см**"
   ]
  },
  {
   "cell_type": "markdown",
   "id": "6f8c1dea",
   "metadata": {},
   "source": [
    "$x_1=158 \\Rightarrow Z_1=\\frac{158-174}{8}=-2 \\Rightarrow P(Z_1) = 0.9772$\n",
    "\n",
    "$x_2=190 \\Rightarrow Z_2=\\frac{190-174}{8}=2 \\Rightarrow P(Z_2) = 0.0228$\n",
    "\n",
    "$P(A)=P(Z_1)-P(Z_2)=0.9772-0.0228=0.9544$"
   ]
  },
  {
   "cell_type": "markdown",
   "id": "8fc2550a",
   "metadata": {},
   "source": [
    "решение на Python"
   ]
  },
  {
   "cell_type": "code",
   "execution_count": 10,
   "id": "b4f17f6a",
   "metadata": {},
   "outputs": [
    {
     "data": {
      "text/plain": [
       "0.9545"
      ]
     },
     "execution_count": 10,
     "metadata": {},
     "output_type": "execute_result"
    }
   ],
   "source": [
    "round((1-norm.cdf((158-174)/8))-(1-norm.cdf((190-174)/8)), 4)"
   ]
  },
  {
   "cell_type": "markdown",
   "id": "5feb8b91",
   "metadata": {},
   "source": [
    "**е) не выше 150 см или не ниже 190 см**"
   ]
  },
  {
   "cell_type": "markdown",
   "id": "f802ac68",
   "metadata": {},
   "source": [
    "$x_1=150 \\Rightarrow Z_1=\\frac{150-174}{8}=-3 \\Rightarrow P(Z_1) = 0.0014$\n",
    "\n",
    "$x_2=190 \\Rightarrow Z_2=\\frac{190-174}{8}=2 \\Rightarrow P(Z_2) = 0.0228$\n",
    "\n",
    "$P(A)=1- P(Z_1)+P(Z_2)=0.0014+0.0228=0.0242$"
   ]
  },
  {
   "cell_type": "markdown",
   "id": "8331700e",
   "metadata": {},
   "source": [
    "решение на Python"
   ]
  },
  {
   "cell_type": "code",
   "execution_count": 11,
   "id": "d1cc508f",
   "metadata": {},
   "outputs": [
    {
     "data": {
      "text/plain": [
       "0.0241"
      ]
     },
     "execution_count": 11,
     "metadata": {},
     "output_type": "execute_result"
    }
   ],
   "source": [
    "round(1-norm.cdf((190-174)/8) + norm.cdf((150-174)/8), 4)"
   ]
  },
  {
   "cell_type": "markdown",
   "id": "7fe8dc57",
   "metadata": {},
   "source": [
    "**ё) не выше 150 см или не ниже 198 см**"
   ]
  },
  {
   "cell_type": "markdown",
   "id": "489b966b",
   "metadata": {},
   "source": [
    "$x_1=150 \\Rightarrow Z_1=\\frac{150-174}{8}=-3 \\Rightarrow P(Z_1) = 0.0014$\n",
    "\n",
    "$x_2=198 \\Rightarrow Z_2=\\frac{198-174}{8}=3 \\Rightarrow P(Z_2) = 0.0014$\n",
    "\n",
    "$P(A)=1- P(Z_1)+P(Z_2)=0.0014+0.0014=0.0028$"
   ]
  },
  {
   "cell_type": "markdown",
   "id": "5fbd8358",
   "metadata": {},
   "source": [
    "решение на Python"
   ]
  },
  {
   "cell_type": "code",
   "execution_count": 12,
   "id": "88dcef01",
   "metadata": {},
   "outputs": [
    {
     "data": {
      "text/plain": [
       "0.0027"
      ]
     },
     "execution_count": 12,
     "metadata": {},
     "output_type": "execute_result"
    }
   ],
   "source": [
    "round(1-norm.cdf((198-174)/8) + norm.cdf((150-174)/8), 4)"
   ]
  },
  {
   "cell_type": "markdown",
   "id": "64b7a3e1",
   "metadata": {},
   "source": [
    "**ж) ниже 166 см.**"
   ]
  },
  {
   "cell_type": "markdown",
   "id": "bbb556ea",
   "metadata": {},
   "source": [
    "$x<166 \\Rightarrow Z=\\frac{166-174}{8}=-1$\n",
    "\n",
    "$P(Z=-1)=0.8413 \\Rightarrow P(A)=1-P(Z=-1)=1-0.8413=0.1587$"
   ]
  },
  {
   "cell_type": "markdown",
   "id": "5ff7b7cc",
   "metadata": {},
   "source": [
    "решение на Python"
   ]
  },
  {
   "cell_type": "code",
   "execution_count": 13,
   "id": "7f7f6613",
   "metadata": {},
   "outputs": [
    {
     "data": {
      "text/plain": [
       "0.1587"
      ]
     },
     "execution_count": 13,
     "metadata": {},
     "output_type": "execute_result"
    }
   ],
   "source": [
    "round(norm.cdf((166-174)/8), 4)"
   ]
  },
  {
   "cell_type": "markdown",
   "id": "0235c74c",
   "metadata": {},
   "source": [
    "**5 Задание**\n",
    "\n",
    "**На сколько сигм (средних квадратичных отклонений) отклоняется рост человека, равный 190 см, от\n",
    "математического ожидания роста в популяции, в которой M(X) = 178 см и D(X) = 25 кв.см?**"
   ]
  },
  {
   "cell_type": "markdown",
   "id": "4f5d4455",
   "metadata": {},
   "source": [
    "$M(X) = 178$\n",
    "\n",
    "$D(X) = 25 см^2$\n",
    "\n",
    "$\\sigma = \\sqrt{D(X)} = 5$\n",
    "\n",
    "$Z = \\frac{190-178}{5}= 2.4$"
   ]
  },
  {
   "cell_type": "code",
   "execution_count": null,
   "id": "8b641da7",
   "metadata": {},
   "outputs": [],
   "source": []
  }
 ],
 "metadata": {
  "kernelspec": {
   "display_name": "Python 3 (ipykernel)",
   "language": "python",
   "name": "python3"
  },
  "language_info": {
   "codemirror_mode": {
    "name": "ipython",
    "version": 3
   },
   "file_extension": ".py",
   "mimetype": "text/x-python",
   "name": "python",
   "nbconvert_exporter": "python",
   "pygments_lexer": "ipython3",
   "version": "3.9.13"
  },
  "toc": {
   "base_numbering": 1,
   "nav_menu": {
    "height": "72px",
    "width": "200px"
   },
   "number_sections": true,
   "sideBar": true,
   "skip_h1_title": true,
   "title_cell": "Table of Contents",
   "title_sidebar": "Contents",
   "toc_cell": true,
   "toc_position": {},
   "toc_section_display": true,
   "toc_window_display": false
  }
 },
 "nbformat": 4,
 "nbformat_minor": 5
}
