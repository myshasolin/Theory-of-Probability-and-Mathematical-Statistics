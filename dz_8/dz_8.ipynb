{
 "cells": [
  {
   "cell_type": "code",
   "execution_count": 1,
   "id": "faa9e336",
   "metadata": {},
   "outputs": [],
   "source": [
    "import numpy as np"
   ]
  },
  {
   "cell_type": "markdown",
   "id": "e59df93b",
   "metadata": {},
   "source": [
    "## Задание\n",
    "\n",
    "**Провести дисперсионный анализ для определения того, есть ли различия среднего роста среди взрослых футболистов, хоккеистов и штангистов. Даны значения роста в трех группах случайно выбранных спортсменов: Футболисты: 173, 175, 180, 178, 177, 185, 183, 182. Хоккеисты: 177, 179, 180, 188, 177, 172, 171, 184, 180. Штангисты: 172, 173, 169, 177, 166, 180, 178, 177, 172, 166, 170. L = 0.05**"
   ]
  },
  {
   "cell_type": "markdown",
   "id": "6191ca72",
   "metadata": {},
   "source": [
    "собираем в массивы известные нам значения роста, считаем их количество в каждой группе и общее количество вообще"
   ]
  },
  {
   "cell_type": "code",
   "execution_count": 2,
   "id": "3770ef32",
   "metadata": {},
   "outputs": [
    {
     "name": "stdout",
     "output_type": "stream",
     "text": [
      "футболистов: 8\n",
      "хоккеистов: 9\n",
      "штангистов: 11\n",
      "всех вместе: 28\n",
      "групп: 3\n"
     ]
    }
   ],
   "source": [
    "y1 = np.array([173, 175, 180, 178, 177, 185, 183, 182]) # футболисты\n",
    "y2 = np.array([177, 179, 180, 188, 177, 172, 171, 184, 180]) # хоккеисты\n",
    "y3 = np.array([172, 173, 169, 177, 166, 180, 178, 177, 172, 166, 170]) # штангисты\n",
    "n1, n2, n3, k = len(y1), len(y2), len(y3), 3\n",
    "n = n1 + n2 + n3\n",
    "print(f'футболистов: {n1}\\nхоккеистов: {n2}\\nштангистов: {n3}\\nвсех вместе: {n}\\nгрупп: {k}')"
   ]
  },
  {
   "cell_type": "markdown",
   "id": "cdf3715e",
   "metadata": {},
   "source": [
    "найдём средний рост для каждой группы и для всех их вместе"
   ]
  },
  {
   "cell_type": "code",
   "execution_count": 3,
   "id": "0699399b",
   "metadata": {},
   "outputs": [
    {
     "name": "stdout",
     "output_type": "stream",
     "text": [
      "средний рост футболистов: 179.12\n",
      "средний рост хоккеистов: 178.67\n",
      "средний рост штангистов: 172.73\n",
      "средний рост всех и сразу: 176.46\n"
     ]
    }
   ],
   "source": [
    "y1_mean, y2_mean, y3_mean, y_all = np.mean(y1), np.mean(y2), np.mean(y3), np.concatenate([y1, y2, y3])\n",
    "y_mean = np.mean(y_all)\n",
    "print(f'средний рост футболистов: {np.round(y1_mean, 2)}\\n'\n",
    "      f'средний рост хоккеистов: {np.round(y2_mean, 2)}\\n'\n",
    "      f'средний рост штангистов: {np.round(y3_mean, 2)}\\n'\n",
    "      f'средний рост всех и сразу: {np.round(y_mean, 2)}')"
   ]
  },
  {
   "cell_type": "markdown",
   "id": "3864a537",
   "metadata": {},
   "source": [
    "Найдём три разных суммы квардатов отклонений "
   ]
  },
  {
   "cell_type": "code",
   "execution_count": 4,
   "id": "5a4d664d",
   "metadata": {},
   "outputs": [
    {
     "name": "stdout",
     "output_type": "stream",
     "text": [
      "s2 - сумма квадратов отклонений наблюдений от общего среднего = 830.96\n",
      "s2_f - сумма квадратов отклонений средних групповых значений от общего среднего = 253.91\n",
      "s2_residual - остаточная сумма квадратов отклонений = 577.06\n"
     ]
    }
   ],
   "source": [
    "s2 = np.sum((y_all - y_mean)**2)\n",
    "s2_f = ((y1_mean - y_mean)**2) * n1 + ((y2_mean - y_mean)**2) * n2 + ((y3_mean - y_mean)**2) * n3\n",
    "s2_residual = s2 - s2_f\n",
    "print(f's2 - сумма квадратов отклонений наблюдений от общего среднего = {np.round(s2, 2)}\\n'\n",
    "      f's2_f - сумма квадратов отклонений средних групповых значений от общего среднего = {np.round(s2_f, 2)}\\n'\n",
    "      f's2_residual - остаточная сумма квадратов отклонений = {np.round(s2_residual, 2)}')"
   ]
  },
  {
   "cell_type": "markdown",
   "id": "9b73d900",
   "metadata": {},
   "source": [
    "проверим по формуле, не ошиблись ли"
   ]
  },
  {
   "cell_type": "code",
   "execution_count": 5,
   "id": "c4444ad2",
   "metadata": {},
   "outputs": [
    {
     "data": {
      "text/plain": [
       "'всё норм'"
      ]
     },
     "execution_count": 5,
     "metadata": {},
     "output_type": "execute_result"
    }
   ],
   "source": [
    "'всё норм' if s2 == s2_f + s2_residual else 'где-то ошиблись'"
   ]
  },
  {
   "cell_type": "markdown",
   "id": "e590de52",
   "metadata": {},
   "source": [
    "теперь находим 3 разных дисперсии"
   ]
  },
  {
   "cell_type": "code",
   "execution_count": 6,
   "id": "6e0223d6",
   "metadata": {},
   "outputs": [
    {
     "name": "stdout",
     "output_type": "stream",
     "text": [
      "sigma2_general - общая дисперсия = 30.78\n",
      "sigma2_f - факторная дисперсия = 126.95\n",
      "sigma2_residual - остаточная дисперсия = 23.08\n"
     ]
    }
   ],
   "source": [
    "sigma2_general = s2 / (n - 1)\n",
    "sigma2_f = s2_f / (k - 1)\n",
    "sigma2_residual = s2_residual / (n - k)\n",
    "print(f'sigma2_general - общая дисперсия = {np.round(sigma2_general, 2)}\\n'\n",
    "      f'sigma2_f - факторная дисперсия = {np.round(sigma2_f, 2)}\\n'\n",
    "      f'sigma2_residual - остаточная дисперсия = {np.round(sigma2_residual, 2)}')"
   ]
  },
  {
   "cell_type": "markdown",
   "id": "d2a8bce3",
   "metadata": {},
   "source": [
    "Найдём расчётное значение $F_H$ и табличное $F_{крит}$ в таблице критических точек распределения Фишера-Снедекора с характеристиками:\n",
    "\n",
    "заданный уровень значимости $\\alpha = 0.05$\n",
    "\n",
    "степени свободы:\n",
    "\n",
    "$df_{межд} = k - 1 = 3 - 1 = 2$\n",
    "\n",
    "$df_{внутр} = n - k = 28 - 3 = 25$\n",
    "\n",
    "$\\Rightarrow F_{крит} = 3.38$"
   ]
  },
  {
   "cell_type": "markdown",
   "id": "089abfc3",
   "metadata": {},
   "source": [
    "![F_rasprd_Fishera_Snedekora.jpg](https://ltdfoto.ru/images/2023/02/04/F_rasprd_Fishera_Snedekora.jpg)"
   ]
  },
  {
   "cell_type": "code",
   "execution_count": 7,
   "id": "6c19c3ab",
   "metadata": {},
   "outputs": [
    {
     "name": "stdout",
     "output_type": "stream",
     "text": [
      "F_h = 5.5\n"
     ]
    }
   ],
   "source": [
    "F_h = sigma2_f / sigma2_residual\n",
    "print(f'F_h = {np.round(F_h, 2)}')"
   ]
  },
  {
   "cell_type": "markdown",
   "id": "55f6b24a",
   "metadata": {},
   "source": [
    "вычислим эмпирическое корреляционное отношение $\\eta^2$"
   ]
  },
  {
   "cell_type": "code",
   "execution_count": 8,
   "id": "510a8e49",
   "metadata": {
    "scrolled": true
   },
   "outputs": [
    {
     "name": "stdout",
     "output_type": "stream",
     "text": [
      "eta2 = 0.31\n"
     ]
    }
   ],
   "source": [
    "eta2 = s2_f / s2\n",
    "print(f'eta2 = {np.round(eta2, 2)}')"
   ]
  },
  {
   "cell_type": "markdown",
   "id": "ff82a110",
   "metadata": {},
   "source": [
    "**вывод:**\n",
    "\n",
    "$F_H = 5.5 \\gt F_{крит} = 3.38 \\Rightarrow$ различие средних значений роста в трёх группах статистически значимо\n",
    "\n",
    "но $\\eta^2$ $=0.31 \\Rightarrow$ для более корректного исследования требуется более глубокий анализ"
   ]
  },
  {
   "cell_type": "code",
   "execution_count": null,
   "id": "50be62f7",
   "metadata": {},
   "outputs": [],
   "source": []
  }
 ],
 "metadata": {
  "kernelspec": {
   "display_name": "Python 3 (ipykernel)",
   "language": "python",
   "name": "python3"
  },
  "language_info": {
   "codemirror_mode": {
    "name": "ipython",
    "version": 3
   },
   "file_extension": ".py",
   "mimetype": "text/x-python",
   "name": "python",
   "nbconvert_exporter": "python",
   "pygments_lexer": "ipython3",
   "version": "3.9.13"
  },
  "toc": {
   "base_numbering": 1,
   "nav_menu": {},
   "number_sections": true,
   "sideBar": true,
   "skip_h1_title": true,
   "title_cell": "Table of Contents",
   "title_sidebar": "Contents",
   "toc_cell": true,
   "toc_position": {},
   "toc_section_display": true,
   "toc_window_display": false
  }
 },
 "nbformat": 4,
 "nbformat_minor": 5
}
