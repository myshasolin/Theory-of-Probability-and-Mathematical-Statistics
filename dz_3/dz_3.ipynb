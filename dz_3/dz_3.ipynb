{
 "cells": [
  {
   "cell_type": "markdown",
   "id": "9e2a5401",
   "metadata": {
    "toc": true
   },
   "source": [
    "<h1>Table of Contents<span class=\"tocSkip\"></span></h1>\n",
    "<div class=\"toc\"><ul class=\"toc-item\"><li><span><a href=\"#1.-Задание\" data-toc-modified-id=\"1.-Задание-1\"><span class=\"toc-item-num\">1&nbsp;&nbsp;</span>1. Задание</a></span></li><li><span><a href=\"#2.-Задание\" data-toc-modified-id=\"2.-Задание-2\"><span class=\"toc-item-num\">2&nbsp;&nbsp;</span>2. Задание</a></span></li><li><span><a href=\"#3.-Задание\" data-toc-modified-id=\"3.-Задание-3\"><span class=\"toc-item-num\">3&nbsp;&nbsp;</span>3. Задание</a></span></li><li><span><a href=\"#4.-Задание\" data-toc-modified-id=\"4.-Задание-4\"><span class=\"toc-item-num\">4&nbsp;&nbsp;</span>4. Задание</a></span></li></ul></div>"
   ]
  },
  {
   "cell_type": "code",
   "execution_count": 1,
   "id": "cb0843bb",
   "metadata": {},
   "outputs": [],
   "source": [
    "import numpy as np\n",
    "from math import factorial"
   ]
  },
  {
   "cell_type": "code",
   "execution_count": 2,
   "id": "12edbdd4",
   "metadata": {},
   "outputs": [],
   "source": [
    "def comb(k, n):\n",
    "    return factorial(n)/(factorial(k) * factorial(n - k))"
   ]
  },
  {
   "cell_type": "markdown",
   "id": "68cb4953",
   "metadata": {},
   "source": [
    "## 1. Задание\n",
    "\n",
    "**Даны значения зарплат из выборки выпускников: 100, 80, 75, 77, 89, 33, 45, 25, 65, 17, 30, 24, 57, 55, 70, 75, 65, 84, 90, 150. Посчитать (желательно без использования статистических методов наподобие std, var, mean) среднее арифметическое, среднее квадратичное отклонение, смещенную и несмещенную оценки дисперсий для данной выборки.**"
   ]
  },
  {
   "cell_type": "markdown",
   "id": "99d2ef44",
   "metadata": {},
   "source": [
    "среднее:\n",
    "\n",
    "$\\overline{X} = \\frac{\\sum\\limits_{i=1}^{n} x_i}{n} = \\frac{100+80+75+77+89+33+45+25+65+17+30+24+57+55+70+75+65+84+90+150}{20}=65.3$"
   ]
  },
  {
   "cell_type": "markdown",
   "id": "536dba1a",
   "metadata": {},
   "source": [
    "решение на Python:"
   ]
  },
  {
   "cell_type": "code",
   "execution_count": 3,
   "id": "023673b2",
   "metadata": {},
   "outputs": [
    {
     "data": {
      "text/plain": [
       "65.3"
      ]
     },
     "execution_count": 3,
     "metadata": {},
     "output_type": "execute_result"
    }
   ],
   "source": [
    "X = np.array([100, 80, 75, 77, 89, 33, 45, 25, 65, 17, 30, 24, 57, 55, 70, 75, 65, 84, 90, 150])\n",
    "np.mean(X)"
   ]
  },
  {
   "cell_type": "markdown",
   "id": "78c32cc0",
   "metadata": {},
   "source": [
    "смещённая дисперсия:\n",
    "\n",
    "$D(X) = \\frac{\\sum\\limits_{i=1}^{n} (x_i - \\overline{x})^2}{n} =$\n",
    "\n",
    "$= \\frac{(100-65.3)^2}{20}+\\frac{(80-65.3)^2}{20}+\\frac{(75-65.3)^2}{20}+\\frac{(77-65.3)^2}{20}+\\frac{(89-65.3)^2}{20}+$\n",
    "\n",
    "$+\\frac{(33-65.3)^2}{20}+\\frac{(45-65.3)^2}{20}+\\frac{(25-65.3)^2}{20}+\\frac{(65-65.3)^2}{20}+\\frac{(17-65.3)^2}{20}+$\n",
    "\n",
    "$+\\frac{(30-65.3)^2}{20}+\\frac{(24-65.3)^2}{20}+\\frac{(57-65.3)^2}{20}+\\frac{(55-65.3)^2}{20}+\\frac{(70-65.3)^2}{20}+$\n",
    "\n",
    "$+\\frac{(75-65.3)^2}{20}+\\frac{(65-65.3)^2}{20}+\\frac{(84-65.3)^2}{20}+\\frac{(90-65.3)^2}{20}+\\frac{(150-65.3)^2}{20}=$\n",
    "\n",
    "$=60.2045+10.8045+4.7045+6.8445+28.0845+52.1645+20.6045+81.2045+0.0045+116.6445+$\n",
    "\n",
    "$+62.3045+85.2845+3.4445+5.3045+1.1045+4.7045+0.0045+17.4845+30.5045+358.7045=950.11$"
   ]
  },
  {
   "cell_type": "markdown",
   "id": "b704b8c4",
   "metadata": {},
   "source": [
    "решение на Python:"
   ]
  },
  {
   "cell_type": "code",
   "execution_count": 4,
   "id": "f8bc2278",
   "metadata": {},
   "outputs": [
    {
     "data": {
      "text/plain": [
       "950.11"
      ]
     },
     "execution_count": 4,
     "metadata": {},
     "output_type": "execute_result"
    }
   ],
   "source": [
    "np.var(X)"
   ]
  },
  {
   "cell_type": "markdown",
   "id": "4b2a438d",
   "metadata": {},
   "source": [
    "смещённая дисперсия:\n",
    "\n",
    "$D'(X) = \\frac{\\sum\\limits_{i=1}^{n} (x_i - \\overline{x})^2}{n-1} =$\n",
    "\n",
    "$= \\frac{(100-65.3)^2}{20-1}+\\frac{(80-65.3)^2}{20-1}+\\frac{(75-65.3)^2}{20-1}+\\frac{(77-65.3)^2}{20-1}+\\frac{(89-65.3)^2}{20-1}+$\n",
    "\n",
    "$+\\frac{(33-65.3)^2}{20-1}+\\frac{(45-65.3)^2}{20-1}+\\frac{(25-65.3)^2}{20-1}+\\frac{(65-65.3)^2}{20-1}+\\frac{(17-65.3)^2}{20-1}+$\n",
    "\n",
    "$+\\frac{(30-65.3)^2}{20-1}+\\frac{(24-65.3)^2}{20-1}+\\frac{(57-65.3)^2}{20-1}+\\frac{(55-65.3)^2}{20-1}+\\frac{(70-65.3)^2}{20-1}+$\n",
    "\n",
    "$+\\frac{(75-65.3)^2}{20-1}+\\frac{(65-65.3)^2}{20-1}+\\frac{(84-65.3)^2}{20-1}+\\frac{(90-65.3)^2}{20-1}+\\frac{(150-65.3)^2}{20-1}=$\n",
    "\n",
    "$=63.3732+11.3732+4.9521+7.2047+29.5626+54.91+21.6889+85.4784+0.0047+122.7837+$\n",
    "\n",
    "$+65.5837+89.7732+3.6258+5.5837+1.1626+4.9521+0.0047+18.4047+32.11+377.5837=1000.1157$"
   ]
  },
  {
   "cell_type": "markdown",
   "id": "c9477b01",
   "metadata": {},
   "source": [
    "решение на Python:"
   ]
  },
  {
   "cell_type": "code",
   "execution_count": 5,
   "id": "fa64149a",
   "metadata": {},
   "outputs": [
    {
     "data": {
      "text/plain": [
       "1000.1158"
      ]
     },
     "execution_count": 5,
     "metadata": {},
     "output_type": "execute_result"
    }
   ],
   "source": [
    "round(np.var(X, ddof=1), 4)"
   ]
  },
  {
   "cell_type": "markdown",
   "id": "a244c94b",
   "metadata": {},
   "source": [
    "среднее квадратичное отклонение\n",
    "\n",
    "$\\sigma = \\sqrt{D(X)} = \\sqrt{950.11}=30.8239$\n",
    "\n",
    "$\\sigma ' = \\sqrt{D'(X)} = \\sqrt{1000.1157}=31.6246$"
   ]
  },
  {
   "cell_type": "markdown",
   "id": "fe7fec8c",
   "metadata": {},
   "source": [
    "решение на Python:"
   ]
  },
  {
   "cell_type": "code",
   "execution_count": 6,
   "id": "3670c8da",
   "metadata": {},
   "outputs": [
    {
     "data": {
      "text/plain": [
       "(30.8239, 31.6246)"
      ]
     },
     "execution_count": 6,
     "metadata": {},
     "output_type": "execute_result"
    }
   ],
   "source": [
    "np.round(np.std(X), 4), np.round(np.std(X, ddof=1), 4)"
   ]
  },
  {
   "cell_type": "markdown",
   "id": "22b3631e",
   "metadata": {},
   "source": [
    "## 2. Задание\n",
    "\n",
    "**В первом ящике находится 8 мячей, из которых 5 - белые. Во втором ящике - 12 мячей, из которых 5 белых. Из первого ящика вытаскивают случайным образом два мяча, из второго - 4. Какова вероятность того, что 3 мяча белые?**"
   ]
  },
  {
   "cell_type": "markdown",
   "id": "fde49c5d",
   "metadata": {},
   "source": [
    "$P(B_1) = $ достать 0 белых из 1-го ящика и 3 белых из второго = $\\frac{C^0_5 \\cdot C^2_3}{C^2_8} \\cdot \\frac{C^3_5 \\cdot C^1_7}{C^4_{12}}$\n",
    "\n",
    "$P(B_2) = $ достать 1 белый из 1-го ящика и 2 белых из второго = $\\frac{C^1_5 \\cdot C^1_3}{C^2_8} \\cdot \\frac{C^2_5 \\cdot C^2_7}{C^4_{12}}$\n",
    "\n",
    "$P(B_3) = $ достать 2 белых из 1-го ящика и 1 белый из второго = $\\frac{C^2_5 \\cdot C^0_3}{C^2_8} \\cdot \\frac{C^1_5 \\cdot C^3_7}{C^4_{12}}$\n",
    "\n",
    "$P(A) = P(B_1) + P(B_2) + P(B_3) \\Rightarrow$\n",
    "\n",
    "$\\frac{\\frac{3!}{2! \\cdot 1!}}{\\frac{8!}{2! \\cdot 6!}} \\cdot \\frac{\\frac{3!}{3! \\cdot 2!} \\cdot \\frac{7!}{1! \\cdot 6!}}{\\frac{12!}{4! \\cdot 8!}} + \\frac{\\frac{5!}{1! \\cdot 4!} \\cdot \\frac{3!}{1! \\cdot 2!}}{\\frac{8!}{2! \\cdot 6!}} \\cdot \\frac{\\frac{5!}{2! \\cdot 3!} \\cdot \\frac{7!}{2! \\cdot 5!}}{\\frac{12!}{4! \\cdot 8!}}+\\frac{\\frac{5!}{2! \\cdot 3!}}{\\frac{8!}{2! \\cdot 6!}} \\cdot \\frac{\\frac{5!}{1! \\cdot 4!} \\cdot \\frac{7!}{8! \\cdot 4!}}{\\frac{12!}{4! \\cdot 8!}} = \\frac{3}{28} \\cdot \\frac{10 \\cdot 7}{\\frac{1880}{24}}+\\frac{5\\cdot3}{28}\\cdot\\frac{10 \\cdot 21}{\\frac{1880}{24}}+\\frac{10}{28}\\cdot\\frac{5 \\cdot 35}{\\frac{1880}{24}} = $\n",
    "\n",
    "$=\\frac{3\\cdot70}{28\\cdot495}\\cdot\\frac{15\\cdot210}{28\\cdot495}\\cdot\\frac{10\\cdot175}{28\\cdot495}=\\frac{210}{13860}+\\frac{3150}{13860}+\\frac{1750}{13860}=\\frac{5110}{13860}=0.36(86)$"
   ]
  },
  {
   "cell_type": "markdown",
   "id": "124dff28",
   "metadata": {},
   "source": [
    "Решение на Python:"
   ]
  },
  {
   "cell_type": "code",
   "execution_count": 7,
   "id": "186c6508",
   "metadata": {},
   "outputs": [
    {
     "data": {
      "text/plain": [
       "0.3687"
      ]
     },
     "execution_count": 7,
     "metadata": {},
     "output_type": "execute_result"
    }
   ],
   "source": [
    "P = ((comb(2,3)/comb(2,8))*(comb(3,5)*comb(1,7)/comb(4,12))+\n",
    "    ((comb(1,5)*comb(1,3))/comb(2,8))*((comb(2,5)*comb(2,7))/comb(4,12))+\n",
    "    (comb(2,5)/comb(2,8))*(comb(1,5)*comb(3,7)/comb(4,12)))\n",
    "round(P, 4)"
   ]
  },
  {
   "cell_type": "markdown",
   "id": "b0080725",
   "metadata": {},
   "source": [
    "## 3. Задание\n",
    "\n",
    "**В университет на факультеты A и B поступило равное количество студентов, а на факультет C студентов поступило столько же, сколько на A и B вместе. Вероятность того, что студент факультета A сдаст первую сессию, равна 0.8. Для студента факультета B эта вероятность равна 0.7, а для студента факультета C - 0.9. Студент сдал первую сессию. Какова вероятность, что он учится: a). на факультете A б). на факультете B в). на факультете C?**"
   ]
  },
  {
   "cell_type": "markdown",
   "id": "d378ee03",
   "metadata": {},
   "source": [
    "$S$ - сдача сессии\n",
    "\n",
    "$P(S|A)=0.8$\n",
    "\n",
    "$P(S|B)=0.7$\n",
    "\n",
    "$P(S|C)=0.9$\n",
    "\n",
    "$P(A)=P(B)=0.25$\n",
    "\n",
    "$P(C)=P(A)+P(B)=0.5$\n",
    "\n",
    "$P(S)=P(A)\\cdot P(S|A)+P(B)\\cdot P(S|B)+P(C)\\cdot P(S|C)=0.25\\cdot0.8+0.25\\cdot0.7+0.5\\cdot0.9=0.2+0.175+0.45=0.825$\n",
    "\n",
    "тогда согласно формуле Байеса\n",
    "\n",
    "для факультета A:\n",
    "\n",
    "$P(A|S)=\\frac{P(S|A)\\cdot P(A)}{P(S)}=\\frac{0.25\\cdot0.8}{0.825}=0.24(24)$\n",
    "\n",
    "для факультета B:\n",
    "\n",
    "$P(B|S)=\\frac{P(S|B)\\cdot P(B)}{P(S)}=\\frac{0.25\\cdot0.7}{0.825}=0.2121$\n",
    "\n",
    "для факультета C:\n",
    "\n",
    "$P(C|S)=\\frac{P(S|C)\\cdot P(C)}{P(S)}=\\frac{0.5\\cdot0.9}{0.825}=0.54(54)$"
   ]
  },
  {
   "cell_type": "markdown",
   "id": "3208a69d",
   "metadata": {},
   "source": [
    "Решение на Python:"
   ]
  },
  {
   "cell_type": "code",
   "execution_count": 8,
   "id": "2b6a920c",
   "metadata": {},
   "outputs": [
    {
     "data": {
      "text/plain": [
       "(0.2424, 0.2121, 0.5455)"
      ]
     },
     "execution_count": 8,
     "metadata": {},
     "output_type": "execute_result"
    }
   ],
   "source": [
    "round((0.25*0.8)/0.825, 4), round((0.25*0.7)/0.825, 4), round((0.5*0.9)/0.825, 4)"
   ]
  },
  {
   "cell_type": "markdown",
   "id": "8e56a2d3",
   "metadata": {},
   "source": [
    "## 4. Задание\n",
    "\n",
    "**Устройство состоит из трех деталей. Для первой детали вероятность выйти из строя в первый месяц равна 0.1, для второй - 0.2, для третьей - 0.25. Какова вероятность того, что в первый месяц выйдут из строя: а). все детали б). только две детали в). хотя бы одна деталь г). от одной до двух деталей?**"
   ]
  },
  {
   "cell_type": "markdown",
   "id": "acfea568",
   "metadata": {},
   "source": [
    "$P(B_1)$ - 1-я деталь выйдет из строя\n",
    "\n",
    "$P(B_2)$ - 2-я деталь выйдет из строя\n",
    "\n",
    "$P(B_3)$ - 3-я деталь выйдет из строя\n",
    "\n",
    "$P(A_а)$ - **все детали выйдут из строя**\n",
    "\n",
    "$P(A_а)=P(B_1)\\cdot P(B_2)\\cdot P(B_3)=0.1\\cdot0.2\\cdot0.25=0.005$\n",
    "\n",
    "$P(A_б)$ - **только две детали выйдут из строя**\n",
    "\n",
    "$P(A_б)=P(B_1)\\cdot P(B_2)\\cdot P(\\bar B_3)+P(B_1)\\cdot P(\\bar B_2)\\cdot P(B_3)+P(\\bar B_1)\\cdot P(B_2)\\cdot P(B_3)=$\n",
    "\n",
    "$=0.1\\cdot0.2\\cdot(1-0.25)+0.1\\cdot(1-0.2)\\cdot0.25+(1-0.1)\\cdot0.2\\cdot0.25=0.015+0.02+0.045=0.08$\n",
    "\n",
    "$P(A_в)$ - **хотя бы одна детать выйдет из строя**\n",
    "\n",
    "$P(A_в)=1-P(\\bar B_1)\\cdot P(\\bar B_2)\\cdot P(\\bar B_3)\\cdot=1-0.9\\cdot0.8\\cdot0.75=1-0.54=0.46$\n",
    "\n",
    "$P(A_г)$ - **выйдет из строя от одной до двух деталей**\n",
    "\n",
    "$P(A_г) = 1-P(B_1)\\cdot P(B_2)\\cdot P(B_3)-P(\\bar B_1)\\cdot P(\\bar B_2)\\cdot P(\\bar B_3) = $\n",
    "\n",
    "$=1-0.1\\cdot0.2\\cdot0.25-0.9\\cdot0.8\\cdot0.75=1-0.005-0.54=0.455$"
   ]
  },
  {
   "cell_type": "code",
   "execution_count": null,
   "id": "e318aace",
   "metadata": {},
   "outputs": [],
   "source": []
  }
 ],
 "metadata": {
  "kernelspec": {
   "display_name": "Python 3 (ipykernel)",
   "language": "python",
   "name": "python3"
  },
  "language_info": {
   "codemirror_mode": {
    "name": "ipython",
    "version": 3
   },
   "file_extension": ".py",
   "mimetype": "text/x-python",
   "name": "python",
   "nbconvert_exporter": "python",
   "pygments_lexer": "ipython3",
   "version": "3.9.15"
  },
  "toc": {
   "base_numbering": 1,
   "nav_menu": {},
   "number_sections": true,
   "sideBar": true,
   "skip_h1_title": true,
   "title_cell": "Table of Contents",
   "title_sidebar": "Contents",
   "toc_cell": true,
   "toc_position": {},
   "toc_section_display": true,
   "toc_window_display": false
  }
 },
 "nbformat": 4,
 "nbformat_minor": 5
}
