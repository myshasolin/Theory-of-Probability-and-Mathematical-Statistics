{
 "cells": [
  {
   "cell_type": "markdown",
   "metadata": {
    "toc": true
   },
   "source": [
    "<h1>Table of Contents<span class=\"tocSkip\"></span></h1>\n",
    "<div class=\"toc\"><ul class=\"toc-item\"></ul></div>"
   ]
  },
  {
   "cell_type": "code",
   "execution_count": 1,
   "metadata": {},
   "outputs": [],
   "source": [
    "import numpy as np\n",
    "import pandas as pd\n",
    "from statsmodels.stats.weightstats import _tconfint_generic as t_stat\n",
    "from statsmodels.stats.weightstats import _zconfint_generic as z_stat"
   ]
  },
  {
   "cell_type": "markdown",
   "metadata": {},
   "source": [
    "**1 Задание**\n",
    "\n",
    "**Даны значения величины заработной платы заемщиков банка (zp) и значения их поведенческого кредитного скоринга (ks):**\n",
    "\n",
    "**zp = [35, 45, 190, 200, 40, 70, 54, 150, 120, 110]**\n",
    "\n",
    "**ks = [401, 574, 874, 919, 459, 739, 653, 902, 746, 832].**"
   ]
  },
  {
   "cell_type": "markdown",
   "metadata": {},
   "source": [
    "**а) Найдите ковариацию этих двух величин с помощью элементарных действий, а затем с помощью функции cov из numpy. Полученные значения должны быть равны.**"
   ]
  },
  {
   "cell_type": "markdown",
   "metadata": {},
   "source": [
    "$M(zp)=\\frac{35+45+190+200+40+70+54+150+120+110}{10}=101.4$\n",
    "\n",
    "$M(ks)=\\frac{401+574+874+919+459+739+653+902+746+832}{10}=709.9$\n",
    "\n",
    "$cov(zp, kz)=((35-101.4)(401-709.9)+(45-101.4)(574-709.9)+(190-101.4)(874-709.9)+$\n",
    "\n",
    "$+(200-101.4)(919-709.9)+(40-101.4)(459-709.9)+(70-101.4)(739-709.9)+$\n",
    "\n",
    "$+(54-101.4)(653-709.9)+(150-101.4)(902-709.9)+(120-101.4)(746-709.9)+$\n",
    "\n",
    "$+(110-101.4)(832-709.9))/(10-1)=$\n",
    "\n",
    "$(20510.96+7664.76+14539.26+20617.26+15405.26+913.74+2697.06+9336.06+671.46+1050.06)/9=10175.37(7)$"
   ]
  },
  {
   "cell_type": "markdown",
   "metadata": {},
   "source": [
    "решение на Python"
   ]
  },
  {
   "cell_type": "code",
   "execution_count": 2,
   "metadata": {},
   "outputs": [
    {
     "data": {
      "text/plain": [
       "10175.3778"
      ]
     },
     "execution_count": 2,
     "metadata": {},
     "output_type": "execute_result"
    }
   ],
   "source": [
    "zp = np.array([35, 45, 190, 200, 40, 70, 54, 150, 120, 110])\n",
    "ks = np.array([401, 574, 874, 919, 459, 739, 653, 902, 746, 832])\n",
    "cov = np.cov(zp, ks)\n",
    "np.round(cov[1, 0], 4)"
   ]
  },
  {
   "cell_type": "markdown",
   "metadata": {},
   "source": [
    "**б) Найдите коэффициент корреляции Пирсона с помощью ковариации и среднеквадратичных отклонений двух признаков, а затем с использованием функций из библиотек numpy и pandas.**"
   ]
  },
  {
   "cell_type": "markdown",
   "metadata": {},
   "source": [
    "$D(zp)=\\frac{1}{n-1}\\sum\\limits_{i=1}^{n}(zp_i-M(zp))^2=((32-101.4)^2+(32-101.4)^2+(32-101.4)^2+(32-101.4)^2+$\n",
    "\n",
    "$+(32-101.4)^2+(32-101.4)^2+(32-101.4)^2+(32-101.4)^2+(32-101.4)^2+(32-101.4)^2)/(10-1)=$\n",
    "\n",
    "$=(4408.96+3180.96+7849.96+9721.96+3769.96+985.96+2246.76+2361.96+345.96)/9=34872.44/9=3847.71$\n",
    "\n",
    "$\\sigma_{zp}=\\sqrt{D(zp)}=\\sqrt{3847.71}=62.2472$"
   ]
  },
  {
   "cell_type": "markdown",
   "metadata": {},
   "source": [
    "$D(ks)=\\frac{1}{n-1}\\sum\\limits_{i=1}^{n} (ks_i-M(ks))^2=((401-709.9)^2+(574-709.9)^2+(874-709.9)^2+(919-709.9)^2+$\n",
    "\n",
    "$+(459-709.9)^2+(739-709.9)^2+(653-709.9)^2+(902-709.9)^2+(746-709.9)^2+(832-709.9)^2)/(10-1)=$\n",
    "\n",
    "$=(95419.21+18468.81+26928.81+43722.81+62950.81+846.81+3237.61+36902.41+1303.21+14908.41)/9=$\n",
    "\n",
    "$=304688.90/9=33854.32(2)$\n",
    "\n",
    "$\\sigma_{ks}=\\sqrt{D(ks)}=\\sqrt{33854.32}=183.9955$"
   ]
  },
  {
   "cell_type": "markdown",
   "metadata": {},
   "source": [
    "$r_{zp, ks}=\\frac{cov(zp, ks)}{\\sigma_{zp}\\cdot \\sigma_{ks}}=\\frac{10175.38}{62.2472 \\cdot 183.9955}=\\frac{10175.38}{11453.2047}=0.8884$"
   ]
  },
  {
   "cell_type": "markdown",
   "metadata": {},
   "source": [
    "решение на Python"
   ]
  },
  {
   "cell_type": "code",
   "execution_count": 3,
   "metadata": {},
   "outputs": [
    {
     "data": {
      "text/plain": [
       "0.8875"
      ]
     },
     "execution_count": 3,
     "metadata": {},
     "output_type": "execute_result"
    }
   ],
   "source": [
    "np.round(cov[1, 0]/(zp.std(ddof=1)*ks.std(ddof=1)), 4)"
   ]
  },
  {
   "cell_type": "markdown",
   "metadata": {},
   "source": [
    "**2 Задание**\n",
    "\n",
    "**Измерены значения IQ выборки студентов, обучающихся в местных технических вузах: 131, 125, 115, 122, 131, 115, 107, 99, 125, 111. Известно, что в генеральной совокупности IQ распределен нормально. Найдите доверительный интервал для математического ожидания с надежностью 0.95.**"
   ]
  },
  {
   "cell_type": "markdown",
   "metadata": {},
   "source": [
    "неизвестна $\\sigma \\Rightarrow$ не было анализа генеральной совокупности $\\Rightarrow$ критерием оценки будет критерий Стьюдента $t$ из таблицы Стьюдента\n",
    "\n",
    "тогда ошибка среднего - это $\\frac{s}{\\sqrt{n}}$, где $s$ - корень дисперсии по выборке $s=\\sqrt{D_в(X)}$, а $\\sqrt{D_в(X)}$ - несмещённая оценка дисперсии\n",
    "\n",
    "генеральная совокупность распределена нормально $\\Rightarrow$ можем перейти от $\\alpha$ к $\\frac{\\alpha}{2}$\n",
    "\n",
    "$p=0.95 \\Rightarrow \\alpha=1-p=1-0.95=0.05$\n",
    "\n",
    "$\\frac{\\alpha}{2} = \\frac{0.05}{2}=0.025$\n",
    "\n",
    "считаем среднюю величину по выборке"
   ]
  },
  {
   "cell_type": "markdown",
   "metadata": {},
   "source": [
    "$\\overline{X_в}=\\frac{131+125+115+122+131+115+107+99+125+111}{10}=\\frac{1181}{10}=181.1$\n",
    "\n",
    "Находим дисперсию $D_в(X)$, а из неё среднеквадратичное отклонение $\\sigma$"
   ]
  },
  {
   "cell_type": "markdown",
   "metadata": {},
   "source": [
    "$D_в(X)=\\frac{1}{n-1}\\sum\\limits_{i=1}^{n}(x_i-\\overline{x_в})^2 = ((131-118.1)^2+(125-118.1)^2+(115-118.1)^2+(122-118.1)^2+$\n",
    "\n",
    "$+(131-118.1)^2+(115-118.1)^2+(107-118.1)^2+(99-118.1)^2+(125-118.1)^2+(111-118.1)^2)/(10-1)=$\n",
    "\n",
    "$(166.41+47.61+9.61+15.21+166.41+9.61+123.21+364.81+47.61+50.41)/9=1000.9/9=111.21(1)$\n",
    "\n",
    "$\\sigma=\\sqrt{D_в(X)}=\\sqrt{111.21}=10.5457$\n",
    "\n",
    "находим табличное значение $t$ Стьюдента, а для него:\n",
    "\n",
    "$k=n-1=10-1=9$\n",
    "\n",
    "$p=1-\\frac{\\alpha}{2}=1-0.025=0.975$\n",
    "\n",
    "$\\Rightarrow t_{\\frac{\\alpha}{2}}=2.262$\n",
    "\n",
    "находим доверительный интервал по формуле:\n",
    "\n",
    "$\\left[\n",
    "  \\begin{array}{ccc}\n",
    "     \\overline{X_в} \\mp t_{\\frac{\\alpha}{2}}\\cdot \\frac{s}{\\sqrt{n}}\\\\\n",
    "  \\end{array}\n",
    "\\right]\n",
    "\\Rightarrow\n",
    "\\left[\n",
    "  \\begin{array}{ccc}\n",
    "     118.1 \\mp 2.262\\cdot \\frac{10.5457}{\\sqrt{10}}\\\\\n",
    "  \\end{array}\n",
    "\\right]\n",
    "\\Rightarrow\n",
    "\\left[\n",
    "  \\begin{array}{ccc}\n",
    "     118.1-2.262\\cdot3.3348; 118.1+2.262\\cdot3.3348\\\\\n",
    "  \\end{array}\n",
    "\\right]\n",
    "$\n",
    "\n",
    "$\\left[\n",
    "  \\begin{array}{ccc}\n",
    "     110.5567; 125.6433\\\\\n",
    "  \\end{array}\n",
    "\\right]\n",
    "-$ этот интервал покрывает истинное значение $X$ с доверительной вероятностью 95%"
   ]
  },
  {
   "cell_type": "markdown",
   "metadata": {},
   "source": [
    "решение на Python"
   ]
  },
  {
   "cell_type": "code",
   "execution_count": 4,
   "metadata": {},
   "outputs": [
    {
     "name": "stdout",
     "output_type": "stream",
     "text": [
      "[110.5561 : 125.6439]\n"
     ]
    }
   ],
   "source": [
    "x = np.array([131, 125, 115, 122, 131, 115, 107, 99, 125, 111])\n",
    "result = t_stat(x.mean(), x.std(ddof=1)/(np.sqrt(len(x))), len(x) - 1, 0.05, 'two-sided')\n",
    "print(f'[{np.round(result[0], 4)} : {np.round(result[1], 4)}]')"
   ]
  },
  {
   "cell_type": "markdown",
   "metadata": {},
   "source": [
    "**3 Задание**\n",
    "\n",
    "**Известно, что рост футболистов в сборной распределен нормально\n",
    "с дисперсией генеральной совокупности, равной 25 кв.см. Объем выборки равен 27, среднее выборочное составляет 174.2. Найдите доверительный интервал для математического ожидания с надежностью 0.95.**"
   ]
  },
  {
   "cell_type": "markdown",
   "metadata": {},
   "source": [
    "до нас был выполнен анализ генеральной совокупности $\\Rightarrow$ критерием оценки будет критерий Фишера $Z$ из таблицы распределения Лапласа для $Z<0$ (так как мы работаем с доверительным интервалом)\n",
    "\n",
    "генеральная совокупность распределена нормально $\\Rightarrow$ можем перейти от $\\alpha$ к $\\frac{\\alpha}{2}$\n",
    "\n",
    "$p=0.95 \\Rightarrow \\alpha=1-p=1-0.95=0.05$\n",
    "\n",
    "$\\frac{\\alpha}{2} = \\frac{0.05}{2}=0.025$\n",
    "\n",
    "так как был анализ генеральной совокупности, то стандартной ошибкой среднего будет $\\frac{\\sigma}{\\sqrt{n}}$, где $\\sigma$ взята из генеральной совокупности\n",
    "\n",
    "Находим табличное значение $Z$"
   ]
  },
  {
   "cell_type": "markdown",
   "metadata": {},
   "source": [
    "$Z(P_{\\forall Z}=0.025)=-1.96$\n",
    "\n",
    "находим доверительный интервал по формуле:\n",
    "\n",
    "$\\left[\n",
    "  \\begin{array}{ccc}\n",
    "     \\overline{X_в} \\mp Z_{\\frac{\\alpha}{2}}\\cdot \\frac{\\sigma}{\\sqrt{n}}\\\\\n",
    "  \\end{array}\n",
    "\\right]\n",
    "\\Rightarrow\n",
    "\\left[\n",
    "  \\begin{array}{ccc}\n",
    "     174.2 \\mp 1.96\\cdot \\frac{5}{\\sqrt{27}}\\\\\n",
    "  \\end{array}\n",
    "\\right]\n",
    "$\n",
    "\n",
    "$\\left[\n",
    "  \\begin{array}{ccc}\n",
    "     172.3140; 176.0860\\\\\n",
    "  \\end{array}\n",
    "\\right]\n",
    "-$ этот интервал покрывает истинное значение $M(X)$ генеральной совокупности с вероятностью 95%"
   ]
  },
  {
   "cell_type": "markdown",
   "metadata": {},
   "source": [
    "решение на Python"
   ]
  },
  {
   "cell_type": "code",
   "execution_count": 5,
   "metadata": {},
   "outputs": [
    {
     "name": "stdout",
     "output_type": "stream",
     "text": [
      "[172.314 : 176.086]\n"
     ]
    }
   ],
   "source": [
    "result = z_stat(174.2, np.sqrt(25)/np.sqrt(27), 0.05, 'two-sided')\n",
    "print(f'[{np.round(result[0], 4)} : {np.round(result[1], 4)}]')"
   ]
  },
  {
   "cell_type": "code",
   "execution_count": null,
   "metadata": {},
   "outputs": [],
   "source": []
  }
 ],
 "metadata": {
  "kernelspec": {
   "display_name": "Python 3 (ipykernel)",
   "language": "python",
   "name": "python3"
  },
  "language_info": {
   "codemirror_mode": {
    "name": "ipython",
    "version": 3
   },
   "file_extension": ".py",
   "mimetype": "text/x-python",
   "name": "python",
   "nbconvert_exporter": "python",
   "pygments_lexer": "ipython3",
   "version": "3.9.13"
  },
  "toc": {
   "base_numbering": 1,
   "nav_menu": {},
   "number_sections": true,
   "sideBar": true,
   "skip_h1_title": true,
   "title_cell": "Table of Contents",
   "title_sidebar": "Contents",
   "toc_cell": true,
   "toc_position": {},
   "toc_section_display": true,
   "toc_window_display": false
  },
  "vscode": {
   "interpreter": {
    "hash": "3bd13bc16400e16874b7ce28af58a129343287e94248a182c1f06fbb6b76ef8e"
   }
  }
 },
 "nbformat": 4,
 "nbformat_minor": 2
}
